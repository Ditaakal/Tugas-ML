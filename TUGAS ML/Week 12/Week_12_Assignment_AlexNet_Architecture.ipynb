{
  "cells": [
    {
      "cell_type": "markdown",
      "metadata": {
        "id": "yAUfrwLrzpxT"
      },
      "source": [
        "# AlexNet Architecture"
      ]
    },
    {
      "cell_type": "markdown",
      "metadata": {
        "id": "DTw_DBsozpxW"
      },
      "source": [
        "## Import Required Module(s)"
      ]
    },
    {
      "cell_type": "code",
      "execution_count": 1,
      "metadata": {
        "id": "WLgVHCzzzpxX"
      },
      "outputs": [],
      "source": [
        "import os\n",
        "import torch\n",
        "import torchvision\n",
        "import numpy as np\n",
        "import pandas as pd\n",
        "import torch.nn as nn\n",
        "import torch.optim as optim\n",
        "import matplotlib.pyplot as plt\n",
        "import torch.nn.functional as F\n",
        "from PIL import Image\n",
        "from torchvision import transforms, datasets\n",
        "from torch.utils.data import Dataset, DataLoader\n",
        "from keras.datasets import fashion_mnist as mnist"
      ]
    },
    {
      "cell_type": "code",
      "execution_count": 2,
      "metadata": {
        "colab": {
          "base_uri": "https://localhost:8080/"
        },
        "id": "Jcjsrv8RzpxZ",
        "outputId": "e177639a-2106-46a9-866e-e122f348fe6b"
      },
      "outputs": [
        {
          "output_type": "stream",
          "name": "stdout",
          "text": [
            "1.10.0+cu111\n",
            "cpu\n"
          ]
        }
      ],
      "source": [
        "# training batches of our network\n",
        "EPOCHS = 10\n",
        "# size of each batch\n",
        "BATCH_SIZE = 512\n",
        "\n",
        "DEVICE = (\"cuda\" if torch.cuda.is_available() else \"cpu\")\n",
        "class_names = ['T-shirt/top', 'Trouser', 'Pullover', 'Dress', 'Coat',\n",
        "               'Sandal', 'Shirt', 'Sneaker', 'Bag', 'Ankle boot']\n",
        "\n",
        "print(torch.__version__)\n",
        "print(DEVICE)"
      ]
    },
    {
      "cell_type": "code",
      "execution_count": 3,
      "metadata": {
        "id": "XAq2u6Nazpxa"
      },
      "outputs": [],
      "source": [
        "#The dataset can be obtained via dataset folder in Github Repository\n",
        "train_file_path = 'fashion-mnist_train.csv'\n",
        "test_file_path = 'fashion-mnist_test.csv'"
      ]
    },
    {
      "cell_type": "code",
      "execution_count": 4,
      "metadata": {
        "colab": {
          "base_uri": "https://localhost:8080/"
        },
        "id": "sMghP9Ogzpxb",
        "outputId": "1cd9ec90-39d6-4ba9-8bb1-1673d1de49c5"
      },
      "outputs": [
        {
          "output_type": "stream",
          "name": "stdout",
          "text": [
            "(3888, 785)\n",
            "(10000, 785)\n"
          ]
        }
      ],
      "source": [
        "train_csv = pd.read_csv(train_file_path)\n",
        "test_csv = pd.read_csv(test_file_path)\n",
        "\n",
        "\n",
        "print(train_csv.shape)\n",
        "print(test_csv.shape)"
      ]
    },
    {
      "cell_type": "code",
      "execution_count": 5,
      "metadata": {
        "colab": {
          "base_uri": "https://localhost:8080/"
        },
        "id": "KjNTk2shzpxb",
        "outputId": "ee516381-1464-4a6e-ecf3-12f701e72a61"
      },
      "outputs": [
        {
          "output_type": "stream",
          "name": "stdout",
          "text": [
            "<class 'pandas.core.frame.DataFrame'>\n",
            "RangeIndex: 3888 entries, 0 to 3887\n",
            "Columns: 785 entries, label to pixel784\n",
            "dtypes: int64(785)\n",
            "memory usage: 23.3 MB\n",
            "None\n",
            "   label  pixel1  pixel2  pixel3  ...  pixel781  pixel782  pixel783  pixel784\n",
            "0      2       0       0       0  ...         0         0         0         0\n",
            "1      9       0       0       0  ...         0         0         0         0\n",
            "2      6       0       0       0  ...         0         0         0         0\n",
            "3      0       0       0       0  ...         0         0         0         0\n",
            "4      3       0       0       0  ...         0         0         0         0\n",
            "\n",
            "[5 rows x 785 columns]\n"
          ]
        }
      ],
      "source": [
        "print(train_csv.info())\n",
        "print(train_csv.head())"
      ]
    },
    {
      "cell_type": "code",
      "execution_count": 6,
      "metadata": {
        "id": "mqNgHltYzpxc"
      },
      "outputs": [],
      "source": [
        "class FashionDataset(Dataset):\n",
        "    def __init__(self, data, transform=None):        \n",
        "        self.fashion_MNIST = list(data.values)\n",
        "        self.transform = transform\n",
        "        \n",
        "        label, image = [], []\n",
        "        \n",
        "        for i in self.fashion_MNIST:\n",
        "            label.append(i[0])\n",
        "            image.append(i[1:])\n",
        "        self.labels = np.asarray(label)\n",
        "        self.images = np.asarray(image).reshape(-1, 28, 28).astype('float32')\n",
        "        \n",
        "    def __len__(self):\n",
        "        return len(self.images)\n",
        "    \n",
        "    def __getitem__(self, idx):\n",
        "        label = self.labels[idx]\n",
        "        image = self.images[idx]      \n",
        "        \n",
        "        if self.transform is not None:\n",
        "            # transfrom the numpy array to PIL image before the transform function\n",
        "            pil_image = Image.fromarray(np.uint8(image)) \n",
        "            image = self.transform(pil_image)\n",
        "            \n",
        "        return image, label"
      ]
    },
    {
      "cell_type": "code",
      "execution_count": 7,
      "metadata": {
        "id": "VwbFzO1hzpxd"
      },
      "outputs": [],
      "source": [
        "AlexTransform = transforms.Compose([\n",
        "    transforms.Resize((227, 227)),\n",
        "    transforms.ToTensor(),\n",
        "    transforms.Normalize((0.1307,), (0.3081,))\n",
        "])"
      ]
    },
    {
      "cell_type": "code",
      "execution_count": 8,
      "metadata": {
        "id": "sAiAUCHhzpxe"
      },
      "outputs": [],
      "source": [
        "#DataLoader\n",
        "train_loader = DataLoader(\n",
        "    FashionDataset(train_csv, transform=AlexTransform), \n",
        "    batch_size=BATCH_SIZE, shuffle=True)\n",
        "\n",
        "test_loader = DataLoader(\n",
        "    FashionDataset(test_csv, transform=AlexTransform), \n",
        "    batch_size=BATCH_SIZE, shuffle=True)"
      ]
    },
    {
      "cell_type": "code",
      "execution_count": 9,
      "metadata": {
        "colab": {
          "base_uri": "https://localhost:8080/",
          "height": 286
        },
        "id": "ghLQKD5nzpxe",
        "outputId": "3a1a8c06-1331-42b2-f2d5-0a55a820cc04"
      },
      "outputs": [
        {
          "output_type": "stream",
          "name": "stdout",
          "text": [
            "Bag\n"
          ]
        },
        {
          "output_type": "display_data",
          "data": {
            "image/png": "[encoded data removed]",
            "text/plain": [
              "<Figure size 432x288 with 1 Axes>"
            ]
          },
          "metadata": {
            "needs_background": "light"
          }
        }
      ],
      "source": [
        "# helper function to show an image\n",
        "def matplotlib_imshow(img):\n",
        "    img = img.mean(dim=0)\n",
        "    img = img / 2 + 0.5     # unnormalize\n",
        "    npimg = img.numpy()\n",
        "    plt.imshow(npimg, cmap=\"Greys\")\n",
        "\n",
        "# get some random training images\n",
        "dataiter = iter(train_loader)\n",
        "images, labels = dataiter.next()\n",
        "\n",
        "# creat grid of images\n",
        "img_grid = torchvision.utils.make_grid(images[0])\n",
        "\n",
        "# show images & labels\n",
        "matplotlib_imshow(img_grid)\n",
        "print(class_names[labels[0]])"
      ]
    },
    {
      "cell_type": "code",
      "execution_count": 10,
      "metadata": {
        "id": "jrS8jFmgzpxf"
      },
      "outputs": [],
      "source": [
        "class fasion_mnist_alexnet(nn.Module):  \n",
        "    def __init__(self):\n",
        "        super().__init__()\n",
        "        self.conv1 = nn.Sequential(\n",
        "            nn.Conv2d(in_channels=1, out_channels=96, kernel_size=11, stride=4, padding=0),\n",
        "            nn.ReLU(),\n",
        "            nn.MaxPool2d(kernel_size=3, stride=2)\n",
        "        )\n",
        "        self.conv2 = nn.Sequential(\n",
        "            nn.Conv2d(96, 256, 5, 1, 2),\n",
        "            nn.ReLU(),\n",
        "            nn.MaxPool2d(3, 2)\n",
        "        )\n",
        "        self.conv3 = nn.Sequential(\n",
        "            nn.Conv2d(256, 384, 3, 1, 1),\n",
        "            nn.ReLU()\n",
        "        )\n",
        "        self.conv4 = nn.Sequential(\n",
        "            nn.Conv2d(384, 384, 3, 1, 1),\n",
        "            nn.ReLU()\n",
        "        )\n",
        "        self.conv5 = nn.Sequential(\n",
        "            nn.Conv2d(384, 256, 3, 1, 1),\n",
        "            nn.ReLU(),\n",
        "            nn.MaxPool2d(3, 2)\n",
        "        )\n",
        "\n",
        "        self.fc1 = nn.Linear(256 * 6 * 6, 4096)\n",
        "        self.fc2 = nn.Linear(4096, 4096)\n",
        "        self.fc3 = nn.Linear(4096, 10)\n",
        "\n",
        "    def forward(self, x):\n",
        "        out = self.conv1(x)\n",
        "        out = self.conv2(out)\n",
        "        out = self.conv3(out)\n",
        "        out = self.conv4(out)\n",
        "        out = self.conv5(out)\n",
        "        out = out.view(out.size(0), -1)\n",
        "\n",
        "        out = F.relu(self.fc1(out))  # 256*6*6 -> 4096\n",
        "        out = F.dropout(out, 0.5)\n",
        "        out = F.relu(self.fc2(out))\n",
        "        out = F.dropout(out, 0.5)\n",
        "        out = self.fc3(out)\n",
        "        out = F.log_softmax(out, dim=1)\n",
        "\n",
        "        return out"
      ]
    },
    {
      "cell_type": "code",
      "execution_count": 11,
      "metadata": {
        "id": "BfbloxeNzpxf"
      },
      "outputs": [],
      "source": [
        "#MODEL\n",
        "model = fasion_mnist_alexnet().to(DEVICE)\n",
        "criterion = F.nll_loss\n",
        "optimizer = optim.Adam(model.parameters())"
      ]
    },
    {
      "cell_type": "code",
      "execution_count": 12,
      "metadata": {
        "id": "2dWS3DWyzpxg"
      },
      "outputs": [],
      "source": [
        "def train(model, device, train_loader, optimer, epoch):\n",
        "    model.train()\n",
        "    for batch_idx, (data, target) in enumerate(train_loader):\n",
        "        target = target.type(torch.LongTensor)\n",
        "        data, target = data.to(device), target.to(device)\n",
        "        optimizer.zero_grad()\n",
        "        output = model(data)\n",
        "        loss = criterion(output, target)\n",
        "        loss.backward()\n",
        "        optimizer.step()\n",
        "        if (batch_idx + 1) % 30 == 0:\n",
        "            print(\"Train Epoch:{} [{}/{} ({:.0f}%)]\\tLoss: {:.6f}\".format(\n",
        "                epoch, batch_idx * len(data), len(train_loader.dataset),\n",
        "                100. * batch_idx / len(train_loader), loss.item()))"
      ]
    },
    {
      "cell_type": "code",
      "execution_count": 13,
      "metadata": {
        "id": "vSYKKhSizpxg"
      },
      "outputs": [],
      "source": [
        "def test(model, device, test_loader):\n",
        "    model.eval()\n",
        "    test_loss = 0\n",
        "    correct = 0\n",
        "    with torch.no_grad():\n",
        "        for data, target in test_loader:\n",
        "            data, target = data.to(device), target.to(device)\n",
        "            output = model(data)\n",
        "            test_loss += criterion(output, target, reduction='sum').item()\n",
        "            pred = output.max(1, keepdim=True)[1]\n",
        "            correct += pred.eq(target.view_as(pred)).sum().item()\n",
        "\n",
        "        test_loss /= len(test_loader.dataset) \n",
        "        print(\"\\nTest set: Average loss: {:.4f}, Accuracy: {}/{} ({:.0f}%)\\n\".format(\n",
        "            test_loss, correct, len(test_loader.dataset), 100. * correct / len(test_loader.dataset)))\n",
        "        print('='*50)"
      ]
    },
    {
      "cell_type": "code",
      "execution_count": 14,
      "metadata": {
        "colab": {
          "base_uri": "https://localhost:8080/"
        },
        "id": "tiq6jAtJzpxg",
        "outputId": "f554d7e5-1046-402a-863d-58888b5f69f5"
      },
      "outputs": [
        {
          "output_type": "stream",
          "name": "stdout",
          "text": [
            "\n",
            "Test set: Average loss: 2.1610, Accuracy: 1437/10000 (14%)\n",
            "\n",
            "==================================================\n",
            "\n",
            "Test set: Average loss: 1.3588, Accuracy: 4616/10000 (46%)\n",
            "\n",
            "==================================================\n",
            "\n",
            "Test set: Average loss: 1.0395, Accuracy: 6002/10000 (60%)\n",
            "\n",
            "==================================================\n",
            "\n",
            "Test set: Average loss: 0.8742, Accuracy: 6719/10000 (67%)\n",
            "\n",
            "==================================================\n",
            "\n",
            "Test set: Average loss: 0.7242, Accuracy: 7379/10000 (74%)\n",
            "\n",
            "==================================================\n",
            "\n",
            "Test set: Average loss: 0.6539, Accuracy: 7614/10000 (76%)\n",
            "\n",
            "==================================================\n",
            "\n",
            "Test set: Average loss: 0.5926, Accuracy: 7884/10000 (79%)\n",
            "\n",
            "==================================================\n",
            "\n",
            "Test set: Average loss: 0.5385, Accuracy: 7966/10000 (80%)\n",
            "\n",
            "==================================================\n",
            "\n",
            "Test set: Average loss: 0.5108, Accuracy: 8147/10000 (81%)\n",
            "\n",
            "==================================================\n",
            "\n",
            "Test set: Average loss: 0.4995, Accuracy: 8156/10000 (82%)\n",
            "\n",
            "==================================================\n"
          ]
        }
      ],
      "source": [
        "for epoch in range(1, EPOCHS+1):\n",
        "    train(model, DEVICE, train_loader, optimizer, epoch)\n",
        "    test(model, DEVICE, test_loader)"
      ]
    }
  ],
  "metadata": {
    "interpreter": {
      "hash": "d6f86c6bc9c9469b2c84cfe0cb33110478d210a1f255f386dfb189826f594413"
    },
    "kernelspec": {
      "display_name": "Python 3.7.11 64-bit ('machinelearning': conda)",
      "language": "python",
      "name": "python3"
    },
    "language_info": {
      "codemirror_mode": {
        "name": "ipython",
        "version": 3
      },
      "file_extension": ".py",
      "mimetype": "text/x-python",
      "name": "python",
      "nbconvert_exporter": "python",
      "pygments_lexer": "ipython3",
      "version": "3.7.11"
    },
    "orig_nbformat": 4,
    "colab": {
      "name": "Week 12 Assignment - AlexNet Architecture.ipynb",
      "provenance": []
    }
  },
  "nbformat": 4,
  "nbformat_minor": 0
}